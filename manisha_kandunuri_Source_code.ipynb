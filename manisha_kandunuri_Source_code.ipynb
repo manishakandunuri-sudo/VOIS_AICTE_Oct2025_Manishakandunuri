{
 "cells": [
  {
   "cell_type": "markdown",
   "id": "db90355a",
   "metadata": {},
   "source": [
    "# Airbnb Hotel Booking Analysis\n",
    "\n",
    "This notebook follows the VOIS project guidelines for **AIRBNB Hotel Booking Analysis**.  \n",
    "\n",
    "**How to use:**\n",
    "- Place your dataset file named `airbnb_hotel_booking.csv` in the same folder as this notebook. If you don't have the file, the notebook will run with a small synthetic sample so you can see the workflow.\n",
    "- Run all cells from top to bottom.\n",
    "\n",
    "---\n",
    "\n",
    "**What this notebook contains:**\n",
    "1. Data loading\n",
    "2. Data preview\n",
    "3. Cleaning & preprocessing\n",
    "4. Exploratory Data Analysis (EDA)\n",
    "5. Visualizations (matplotlib)\n",
    "6. Insights and export\n",
    "\n"
   ]
  },
  {
   "cell_type": "code",
   "execution_count": null,
   "id": "a3f723c7",
   "metadata": {},
   "outputs": [],
   "source": [
    "# 1. Setup: imports and global settings\n",
    "import os\n",
    "import pandas as pd\n",
    "import numpy as np\n",
    "import matplotlib.pyplot as plt\n",
    "from datetime import datetime\n",
    "\n",
    "# Make plots appear inline (Jupyter)\n",
    "%matplotlib inline\n",
    "\n",
    "# Create output folder for saved images and cleaned data\n",
    "OUT_DIR = '/mnt/data/vois_airbnb_outputs'\n",
    "os.makedirs(OUT_DIR, exist_ok=True)\n",
    "\n",
    "print('Output directory:', OUT_DIR)\n"
   ]
  },
  {
   "cell_type": "code",
   "execution_count": null,
   "id": "fadafa97",
   "metadata": {},
   "outputs": [],
   "source": [
    "# 2. Load dataset (tries to read 'airbnb_hotel_booking.csv').\n",
    "# If file not found, create a synthetic sample dataset so the notebook cells can run end-to-end.\n",
    "DATA_PATH = 'airbnb_hotel_booking.csv'\n",
    "\n",
    "if os.path.exists(DATA_PATH):\n",
    "    df = pd.read_csv(DATA_PATH)\n",
    "    print('Loaded dataset from', DATA_PATH)\n",
    "else:\n",
    "    print(f\"File '{DATA_PATH}' not found. Creating a synthetic sample dataset to demonstrate the workflow.\")\n",
    "    rng = np.random.default_rng(42)\n",
    "    n = 300\n",
    "    df = pd.DataFrame({\n",
    "        'id': np.arange(1, n+1),\n",
    "        'city': rng.choice(['CityA', 'CityB', 'CityC'], size=n, p=[0.5,0.3,0.2]),\n",
    "        'room_type': rng.choice(['Entire home/apt','Private room','Shared room'], size=n, p=[0.6,0.3,0.1]),\n",
    "        'price': rng.integers(800, 8000, size=n),\n",
    "        'minimum_nights': rng.integers(1, 14, size=n),\n",
    "        'number_of_reviews': rng.integers(0, 200, size=n),\n",
    "        'reviews_per_month': np.round(rng.uniform(0,5,size=n),2),\n",
    "        'availability_365': rng.integers(0,365,size=n),\n",
    "        'last_review': pd.to_datetime('2025-01-01') - pd.to_timedelta(rng.integers(0,365,size=n), unit='d'),\n",
    "        'host_since': pd.to_datetime('2018-01-01') - pd.to_timedelta(rng.integers(0,2000,size=n), unit='d'),\n",
    "        'neighbourhood_group': rng.choice(['A','B','C'], size=n)\n",
    "    })\n",
    "    # Save synthetic CSV so user can inspect it\n",
    "    df.to_csv(os.path.join(OUT_DIR, 'synthetic_airbnb_sample.csv'), index=False)\n",
    "    print('Saved synthetic sample to', os.path.join(OUT_DIR, 'synthetic_airbnb_sample.csv'))\n",
    "\n",
    "# Show basic info\n",
    "print('Dataset shape:', df.shape)\n",
    "df.head()\n"
   ]
  },
  {
   "cell_type": "markdown",
   "id": "ec7ee99c",
   "metadata": {},
   "source": [
    "## 3. Basic info & Data Types\n",
    "Check for missing values and data types."
   ]
  },
  {
   "cell_type": "code",
   "execution_count": null,
   "id": "78b52905",
   "metadata": {},
   "outputs": [],
   "source": [
    "df.info()\n",
    "print('\\nMissing values per column:')\n",
    "print(df.isnull().sum())"
   ]
  },
  {
   "cell_type": "markdown",
   "id": "9fb247fa",
   "metadata": {},
   "source": [
    "## 4. Quick summary statistics for numerical columns"
   ]
  },
  {
   "cell_type": "code",
   "execution_count": null,
   "id": "3da24a85",
   "metadata": {},
   "outputs": [],
   "source": [
    "df.describe().T"
   ]
  },
  {
   "cell_type": "markdown",
   "id": "c4c0d658",
   "metadata": {},
   "source": [
    "## 5. Cleaning steps (examples)\n",
    "- Convert date columns to datetime\n",
    "- Fill or drop obvious missing values\n",
    "- Remove duplicates\n",
    "- Create derived columns (year/month)"
   ]
  },
  {
   "cell_type": "code",
   "execution_count": null,
   "id": "4da0fbeb",
   "metadata": {},
   "outputs": [],
   "source": [
    "# Example cleaning pipeline (works safely even if columns are missing)\n",
    "df_clean = df.copy()\n",
    "\n",
    "# Convert common date columns if present\n",
    "for col in ['last_review','host_since','date']:\n",
    "    if col in df_clean.columns:\n",
    "        df_clean[col] = pd.to_datetime(df_clean[col], errors='coerce')\n",
    "\n",
    "# Drop duplicates if 'id' present\n",
    "if 'id' in df_clean.columns:\n",
    "    df_clean = df_clean.drop_duplicates(subset='id')\n",
    "else:\n",
    "    df_clean = df_clean.drop_duplicates()\n",
    "\n",
    "# Fill numeric NaNs with 0 for demonstration (user may want other strategies)\n",
    "num_cols = df_clean.select_dtypes(include=[np.number]).columns.tolist()\n",
    "df_clean[num_cols] = df_clean[num_cols].fillna(0)\n",
    "\n",
    "# Fill categorical NaNs with 'Unknown'\n",
    "cat_cols = df_clean.select_dtypes(include=['object']).columns.tolist()\n",
    "df_clean[cat_cols] = df_clean[cat_cols].fillna('Unknown')\n",
    "\n",
    "# Derived columns: host_age_days (if host_since exists), last_review_month\n",
    "if 'host_since' in df_clean.columns:\n",
    "    df_clean['host_age_days'] = (pd.to_datetime('today') - df_clean['host_since']).dt.days\n",
    "if 'last_review' in df_clean.columns:\n",
    "    df_clean['last_review_month'] = df_clean['last_review'].dt.to_period('M').astype(str)\n",
    "\n",
    "print('Cleaned shape:', df_clean.shape)\n",
    "df_clean.head()"
   ]
  },
  {
   "cell_type": "markdown",
   "id": "665352f1",
   "metadata": {},
   "source": [
    "## 6. Exploratory Data Analysis (EDA)\n",
    "We'll look at distributions, top categories and correlations."
   ]
  },
  {
   "cell_type": "code",
   "execution_count": null,
   "id": "649e88a0",
   "metadata": {},
   "outputs": [],
   "source": [
    "# 6.1 Top 10 cities / neighbourhoods\n",
    "cat_col = None\n",
    "for c in ['city','neighbourhood','neighbourhood_group']:\n",
    "    if c in df_clean.columns:\n",
    "        cat_col = c\n",
    "        break\n",
    "\n",
    "if cat_col:\n",
    "    top_cats = df_clean[cat_col].value_counts().head(10)\n",
    "    print('Top categories in', cat_col)\n",
    "    display(top_cats)\n",
    "else:\n",
    "    print('No city/neighbourhood-like column found.')"
   ]
  },
  {
   "cell_type": "code",
   "execution_count": null,
   "id": "210164fa",
   "metadata": {},
   "outputs": [],
   "source": [
    "# 6.2 Price distribution (histogram) - numeric check\n",
    "if 'price' in df_clean.columns:\n",
    "    plt.figure(figsize=(8,4))\n",
    "    plt.hist(df_clean['price'].dropna(), bins=30)\n",
    "    plt.title('Price distribution')\n",
    "    plt.xlabel('Price')\n",
    "    plt.ylabel('Count')\n",
    "    plt.tight_layout()\n",
    "    plt.savefig(os.path.join(OUT_DIR, 'price_histogram.png'))\n",
    "    print('Saved: price_histogram.png ->', os.path.join(OUT_DIR, 'price_histogram.png'))\n",
    "    plt.show()\n",
    "else:\n",
    "    print('No price column found.')"
   ]
  },
  {
   "cell_type": "code",
   "execution_count": null,
   "id": "d7c8a91c",
   "metadata": {},
   "outputs": [],
   "source": [
    "# 6.3 Boxplot of price by room_type (if both columns exist)\n",
    "if set(['price','room_type']).issubset(df_clean.columns):\n",
    "    plt.figure(figsize=(8,5))\n",
    "    # prepare data\n",
    "    groups = df_clean.groupby('room_type')['price'].apply(list)\n",
    "    # create boxplots\n",
    "    plt.boxplot(groups, labels=groups.index, showfliers=False)\n",
    "    plt.title('Price by Room Type (no outliers shown)')\n",
    "    plt.xlabel('Room Type')\n",
    "    plt.ylabel('Price')\n",
    "    plt.tight_layout()\n",
    "    plt.savefig(os.path.join(OUT_DIR, 'price_by_roomtype_boxplot.png'))\n",
    "    print('Saved: price_by_roomtype_boxplot.png ->', os.path.join(OUT_DIR, 'price_by_roomtype_boxplot.png'))\n",
    "    plt.show()\n",
    "else:\n",
    "    print('Required columns for boxplot not found.')"
   ]
  },
  {
   "cell_type": "code",
   "execution_count": null,
   "id": "55718170",
   "metadata": {},
   "outputs": [],
   "source": [
    "# 6.4 Correlation heatmap for numerical columns\n",
    "num = df_clean.select_dtypes(include=[np.number])\n",
    "if num.shape[1] >= 2:\n",
    "    corr = num.corr()\n",
    "    plt.figure(figsize=(8,6))\n",
    "    plt.imshow(corr, aspect='auto')\n",
    "    plt.colorbar()\n",
    "    plt.xticks(range(len(corr.columns)), corr.columns, rotation=90)\n",
    "    plt.yticks(range(len(corr.index)), corr.index)\n",
    "    plt.title('Correlation matrix (numerical features)')\n",
    "    plt.tight_layout()\n",
    "    plt.savefig(os.path.join(OUT_DIR, 'correlation_matrix.png'))\n",
    "    print('Saved: correlation_matrix.png ->', os.path.join(OUT_DIR, 'correlation_matrix.png'))\n",
    "    plt.show()\n",
    "else:\n",
    "    print('Not enough numerical columns for correlation matrix.')"
   ]
  },
  {
   "cell_type": "markdown",
   "id": "d903f5bb",
   "metadata": {},
   "source": [
    "## 7. Grouped Analysis & Insights\n",
    "Examples: average price by city and room type, busiest months (if dates available)."
   ]
  },
  {
   "cell_type": "code",
   "execution_count": null,
   "id": "83b275c1",
   "metadata": {},
   "outputs": [],
   "source": [
    "# 7.1 Average price by category (city or neighbourhood-like)\n",
    "if cat_col and 'price' in df_clean.columns:\n",
    "    avg_price = df_clean.groupby(cat_col)['price'].mean().sort_values(ascending=False).head(10)\n",
    "    print('Average price by', cat_col)\n",
    "    display(avg_price)\n",
    "    # Save to CSV for PPT use\n",
    "    avg_price.to_csv(os.path.join(OUT_DIR, 'avg_price_by_category.csv'))\n",
    "    print('Saved: avg_price_by_category.csv ->', os.path.join(OUT_DIR, 'avg_price_by_category.csv'))\n",
    "else:\n",
    "    print('Cannot compute avg price by category - missing columns.')"
   ]
  },
  {
   "cell_type": "code",
   "execution_count": null,
   "id": "5616be9d",
   "metadata": {},
   "outputs": [],
   "source": [
    "# 7.2 Reviews vs Price scatter (if available)\n",
    "if set(['price','number_of_reviews']).issubset(df_clean.columns):\n",
    "    plt.figure(figsize=(7,4))\n",
    "    plt.scatter(df_clean['price'], df_clean['number_of_reviews'], alpha=0.6)\n",
    "    plt.xlabel('Price')\n",
    "    plt.ylabel('Number of reviews')\n",
    "    plt.title('Reviews vs Price')\n",
    "    plt.tight_layout()\n",
    "    plt.savefig(os.path.join(OUT_DIR, 'reviews_vs_price_scatter.png'))\n",
    "    print('Saved: reviews_vs_price_scatter.png ->', os.path.join(OUT_DIR, 'reviews_vs_price_scatter.png'))\n",
    "    plt.show()\n",
    "else:\n",
    "    print('Required columns for reviews vs price not found.')"
   ]
  },
  {
   "cell_type": "markdown",
   "id": "4c5dfc8c",
   "metadata": {},
   "source": [
    "## 8. Time-based analysis (if date or last_review exists)\n",
    "Look at bookings/reviews over time if possible."
   ]
  },
  {
   "cell_type": "code",
   "execution_count": null,
   "id": "ce87554f",
   "metadata": {},
   "outputs": [],
   "source": [
    "if 'last_review' in df_clean.columns:\n",
    "    df_time = df_clean.dropna(subset=['last_review']).copy()\n",
    "    df_time['review_date'] = pd.to_datetime(df_time['last_review'], errors='coerce')\n",
    "    df_time = df_time.dropna(subset=['review_date'])\n",
    "    df_time['review_month'] = df_time['review_date'].dt.to_period('M').astype(str)\n",
    "    monthly_counts = df_time['review_month'].value_counts().sort_index()\n",
    "    plt.figure(figsize=(10,4))\n",
    "    plt.plot(monthly_counts.index, monthly_counts.values, marker='o')\n",
    "    plt.xticks(rotation=45)\n",
    "    plt.title('Monthly review counts (from last_review column)')\n",
    "    plt.tight_layout()\n",
    "    plt.savefig(os.path.join(OUT_DIR, 'monthly_review_counts.png'))\n",
    "    print('Saved: monthly_review_counts.png ->', os.path.join(OUT_DIR, 'monthly_review_counts.png'))\n",
    "    plt.show()\n",
    "else:\n",
    "    print('No last_review column for time-based analysis.')"
   ]
  },
  {
   "cell_type": "markdown",
   "id": "b6e0d035",
   "metadata": {},
   "source": [
    "## 9. Save cleaned dataset and sample results for PPT\n",
    "We'll save some CSVs and the top images for inclusion in your PPT slides."
   ]
  },
  {
   "cell_type": "code",
   "execution_count": null,
   "id": "e56d05df",
   "metadata": {},
   "outputs": [],
   "source": [
    "# Export cleaned dataset and a small summary for PPT\n",
    "cleaned_path = os.path.join(OUT_DIR, 'airbnb_cleaned.csv')\n",
    "df_clean.to_csv(cleaned_path, index=False)\n",
    "print('Saved cleaned dataset to', cleaned_path)\n",
    "\n",
    "# Create a small summary file\n",
    "summary = {\n",
    "    'rows_original': int(df.shape[0]),\n",
    "    'rows_cleaned': int(df_clean.shape[0]),\n",
    "    'columns': list(df_clean.columns),\n",
    "}\n",
    "import json\n",
    "with open(os.path.join(OUT_DIR, 'summary.json'), 'w') as f:\n",
    "    json.dump(summary, f, indent=2)\n",
    "print('Saved summary.json ->', os.path.join(OUT_DIR, 'summary.json'))"
   ]
  },
  {
   "cell_type": "markdown",
   "id": "ad90de70",
   "metadata": {},
   "source": [
    "## 10. Example Insights (write these into your PPT slide)\n",
    "- Top 3 neighbourhoods by number of listings\n",
    "- Average price range and outlier behaviour\n",
    "- Relationship between reviews and price\n",
    "- Seasonal trends in reviews/bookings (if present)\n",
    "\n",
    "> Paste at least 3 result screenshots from the `vois_airbnb_outputs` folder into your PPT."
   ]
  },
  {
   "cell_type": "code",
   "execution_count": null,
   "id": "8929edec",
   "metadata": {},
   "outputs": [],
   "source": [
    "# Show files saved into output for easy reference\n",
    "for f in sorted(os.listdir(OUT_DIR)):\n",
    "    print('-', f)"
   ]
  },
  {
   "cell_type": "markdown",
   "id": "19d30127",
   "metadata": {},
   "source": [
    "----\n",
    "\n",
    "### End of notebook\n",
    "\n",
    "You can now run this notebook. If you want, I can also:\n",
    "- Run the notebook with your uploaded CSV and provide the generated screenshots, or\n",
    "- Create the PPT slides and insert the generated images and GitHub placeholder info.\n",
    "\n",
    "Tell me which you'd like next!"
   ]
  }
 ],
 "metadata": {},
 "nbformat": 4,
 "nbformat_minor": 5
}
